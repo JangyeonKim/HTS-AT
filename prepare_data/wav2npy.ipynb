{
 "cells": [
  {
   "cell_type": "code",
   "execution_count": 1,
   "metadata": {},
   "outputs": [],
   "source": [
    "import os\n",
    "import glob\n",
    "import numpy as np\n",
    "import librosa\n",
    "from tqdm import tqdm"
   ]
  },
  {
   "cell_type": "code",
   "execution_count": 2,
   "metadata": {},
   "outputs": [],
   "source": [
    "save_dir = \"/home/jykim/work/HTS-AT/aihub_dataset/v2_MotorAndCar\"\n",
    "if not os.path.exists(save_dir):\n",
    "    os.makedirs(save_dir)\n",
    "\n",
    "train_dir = \"/home/data/SED_data/Re_hts_data_v2_noisy/train/\"\n",
    "val_dir = \"/home/data/SED_data/Re_hts_data_v2_noisy/validation/\"\n",
    "test_dir = \"/home/nas/DB/금산코리아/seg_10orLess_2class/\"\n",
    "\n",
    "train_file = glob.glob(train_dir + \"*/*.wav\")\n",
    "val_file = glob.glob(val_dir + \"*/*.wav\")\n",
    "test_file = glob.glob(test_dir + \"*/*.wav\")"
   ]
  },
  {
   "cell_type": "code",
   "execution_count": 3,
   "metadata": {},
   "outputs": [],
   "source": [
    "target_map = {'vehicle' : 0, 'footsteps' : 1, 'other' : 2}"
   ]
  },
  {
   "cell_type": "code",
   "execution_count": 4,
   "metadata": {},
   "outputs": [
    {
     "name": "stderr",
     "output_type": "stream",
     "text": [
      "  0%|          | 0/9855 [00:00<?, ?it/s]"
     ]
    },
    {
     "name": "stderr",
     "output_type": "stream",
     "text": [
      "100%|██████████| 9855/9855 [00:09<00:00, 1092.09it/s]\n",
      "100%|██████████| 1105/1105 [00:01<00:00, 1072.41it/s]\n",
      "100%|██████████| 265/265 [00:03<00:00, 78.68it/s] \n"
     ]
    }
   ],
   "source": [
    "train_dicts = []\n",
    "for f in tqdm(train_file):\n",
    "    y, sr = librosa.load(f, sr = None)\n",
    "    temp_dict = {\n",
    "        \"name\": f,\n",
    "        \"target\": target_map[f.split(\"/\")[-2]],\n",
    "        \"waveform\": y\n",
    "    }\n",
    "    train_dicts.append(temp_dict)\n",
    "\n",
    "val_dicts = []\n",
    "for f in tqdm(val_file):\n",
    "    y, sr = librosa.load(f, sr = None)\n",
    "    temp_dict = {\n",
    "        \"name\": f,\n",
    "        \"target\": target_map[f.split(\"/\")[-2]],\n",
    "        \"waveform\": y\n",
    "    }\n",
    "    val_dicts.append(temp_dict)\n",
    "\n",
    "test_dicts = []\n",
    "for f in tqdm(test_file):\n",
    "    y, sr = librosa.load(f, sr = None)\n",
    "    temp_dict = {\n",
    "        \"name\": f,\n",
    "        \"target\": target_map[f.split(\"/\")[-2]],\n",
    "        \"waveform\": y\n",
    "    }\n",
    "    test_dicts.append(temp_dict)"
   ]
  },
  {
   "cell_type": "code",
   "execution_count": 5,
   "metadata": {},
   "outputs": [],
   "source": [
    "np.save(os.path.join(save_dir,\"train.npy\"), train_dicts)\n",
    "np.save(os.path.join(save_dir,\"val.npy\"), val_dicts)\n",
    "np.save(os.path.join(save_dir,\"test.npy\"), test_dicts)"
   ]
  }
 ],
 "metadata": {
  "kernelspec": {
   "display_name": "HTS",
   "language": "python",
   "name": "python3"
  },
  "language_info": {
   "codemirror_mode": {
    "name": "ipython",
    "version": 3
   },
   "file_extension": ".py",
   "mimetype": "text/x-python",
   "name": "python",
   "nbconvert_exporter": "python",
   "pygments_lexer": "ipython3",
   "version": "3.8.16"
  },
  "orig_nbformat": 4
 },
 "nbformat": 4,
 "nbformat_minor": 2
}
